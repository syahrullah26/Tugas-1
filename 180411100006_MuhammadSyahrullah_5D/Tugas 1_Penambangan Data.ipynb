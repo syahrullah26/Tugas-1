{
 "cells": [
  {
   "cell_type": "code",
   "execution_count": 2,
   "metadata": {},
   "outputs": [
    {
     "data": {
      "text/html": [
       "<style  type=\"text/css\" >\n",
       "</style><table id=\"T_a481f2fa_cfed_11e9_ac23_94b86d07f43a\" ><thead>    <tr>        <th class=\"col_heading level0 col0\" >stats</th>        <th class=\"col_heading level0 col1\" >MTK</th>        <th class=\"col_heading level0 col2\" >B.indonesia</th>        <th class=\"col_heading level0 col3\" >B.inggris.</th>        <th class=\"col_heading level0 col4\" >Fisika</th>    </tr></thead><tbody>\n",
       "                <tr>\n",
       "                                <td id=\"T_a481f2fa_cfed_11e9_ac23_94b86d07f43arow0_col0\" class=\"data row0 col0\" >Min</td>\n",
       "                        <td id=\"T_a481f2fa_cfed_11e9_ac23_94b86d07f43arow0_col1\" class=\"data row0 col1\" >20</td>\n",
       "                        <td id=\"T_a481f2fa_cfed_11e9_ac23_94b86d07f43arow0_col2\" class=\"data row0 col2\" >50</td>\n",
       "                        <td id=\"T_a481f2fa_cfed_11e9_ac23_94b86d07f43arow0_col3\" class=\"data row0 col3\" >50</td>\n",
       "                        <td id=\"T_a481f2fa_cfed_11e9_ac23_94b86d07f43arow0_col4\" class=\"data row0 col4\" >40</td>\n",
       "            </tr>\n",
       "            <tr>\n",
       "                                <td id=\"T_a481f2fa_cfed_11e9_ac23_94b86d07f43arow1_col0\" class=\"data row1 col0\" >Max</td>\n",
       "                        <td id=\"T_a481f2fa_cfed_11e9_ac23_94b86d07f43arow1_col1\" class=\"data row1 col1\" >100</td>\n",
       "                        <td id=\"T_a481f2fa_cfed_11e9_ac23_94b86d07f43arow1_col2\" class=\"data row1 col2\" >100</td>\n",
       "                        <td id=\"T_a481f2fa_cfed_11e9_ac23_94b86d07f43arow1_col3\" class=\"data row1 col3\" >100</td>\n",
       "                        <td id=\"T_a481f2fa_cfed_11e9_ac23_94b86d07f43arow1_col4\" class=\"data row1 col4\" >100</td>\n",
       "            </tr>\n",
       "            <tr>\n",
       "                                <td id=\"T_a481f2fa_cfed_11e9_ac23_94b86d07f43arow2_col0\" class=\"data row2 col0\" >Mean</td>\n",
       "                        <td id=\"T_a481f2fa_cfed_11e9_ac23_94b86d07f43arow2_col1\" class=\"data row2 col1\" >59.798</td>\n",
       "                        <td id=\"T_a481f2fa_cfed_11e9_ac23_94b86d07f43arow2_col2\" class=\"data row2 col2\" >74.834</td>\n",
       "                        <td id=\"T_a481f2fa_cfed_11e9_ac23_94b86d07f43arow2_col3\" class=\"data row2 col3\" >74.398</td>\n",
       "                        <td id=\"T_a481f2fa_cfed_11e9_ac23_94b86d07f43arow2_col4\" class=\"data row2 col4\" >69.672</td>\n",
       "            </tr>\n",
       "            <tr>\n",
       "                                <td id=\"T_a481f2fa_cfed_11e9_ac23_94b86d07f43arow3_col0\" class=\"data row3 col0\" >Standard Deviasi</td>\n",
       "                        <td id=\"T_a481f2fa_cfed_11e9_ac23_94b86d07f43arow3_col1\" class=\"data row3 col1\" >23.37</td>\n",
       "                        <td id=\"T_a481f2fa_cfed_11e9_ac23_94b86d07f43arow3_col2\" class=\"data row3 col2\" >14.77</td>\n",
       "                        <td id=\"T_a481f2fa_cfed_11e9_ac23_94b86d07f43arow3_col3\" class=\"data row3 col3\" >14.72</td>\n",
       "                        <td id=\"T_a481f2fa_cfed_11e9_ac23_94b86d07f43arow3_col4\" class=\"data row3 col4\" >17.35</td>\n",
       "            </tr>\n",
       "            <tr>\n",
       "                                <td id=\"T_a481f2fa_cfed_11e9_ac23_94b86d07f43arow4_col0\" class=\"data row4 col0\" >Variasi</td>\n",
       "                        <td id=\"T_a481f2fa_cfed_11e9_ac23_94b86d07f43arow4_col1\" class=\"data row4 col1\" >546.34</td>\n",
       "                        <td id=\"T_a481f2fa_cfed_11e9_ac23_94b86d07f43arow4_col2\" class=\"data row4 col2\" >218.02</td>\n",
       "                        <td id=\"T_a481f2fa_cfed_11e9_ac23_94b86d07f43arow4_col3\" class=\"data row4 col3\" >216.64</td>\n",
       "                        <td id=\"T_a481f2fa_cfed_11e9_ac23_94b86d07f43arow4_col4\" class=\"data row4 col4\" >300.97</td>\n",
       "            </tr>\n",
       "            <tr>\n",
       "                                <td id=\"T_a481f2fa_cfed_11e9_ac23_94b86d07f43arow5_col0\" class=\"data row5 col0\" >Skewnes</td>\n",
       "                        <td id=\"T_a481f2fa_cfed_11e9_ac23_94b86d07f43arow5_col1\" class=\"data row5 col1\" >0.01</td>\n",
       "                        <td id=\"T_a481f2fa_cfed_11e9_ac23_94b86d07f43arow5_col2\" class=\"data row5 col2\" >0.02</td>\n",
       "                        <td id=\"T_a481f2fa_cfed_11e9_ac23_94b86d07f43arow5_col3\" class=\"data row5 col3\" >0.06</td>\n",
       "                        <td id=\"T_a481f2fa_cfed_11e9_ac23_94b86d07f43arow5_col4\" class=\"data row5 col4\" >-0.02</td>\n",
       "            </tr>\n",
       "            <tr>\n",
       "                                <td id=\"T_a481f2fa_cfed_11e9_ac23_94b86d07f43arow6_col0\" class=\"data row6 col0\" >Quantile 1</td>\n",
       "                        <td id=\"T_a481f2fa_cfed_11e9_ac23_94b86d07f43arow6_col1\" class=\"data row6 col1\" >40</td>\n",
       "                        <td id=\"T_a481f2fa_cfed_11e9_ac23_94b86d07f43arow6_col2\" class=\"data row6 col2\" >62</td>\n",
       "                        <td id=\"T_a481f2fa_cfed_11e9_ac23_94b86d07f43arow6_col3\" class=\"data row6 col3\" >61</td>\n",
       "                        <td id=\"T_a481f2fa_cfed_11e9_ac23_94b86d07f43arow6_col4\" class=\"data row6 col4\" >55</td>\n",
       "            </tr>\n",
       "            <tr>\n",
       "                                <td id=\"T_a481f2fa_cfed_11e9_ac23_94b86d07f43arow7_col0\" class=\"data row7 col0\" >Quantile 2</td>\n",
       "                        <td id=\"T_a481f2fa_cfed_11e9_ac23_94b86d07f43arow7_col1\" class=\"data row7 col1\" >59</td>\n",
       "                        <td id=\"T_a481f2fa_cfed_11e9_ac23_94b86d07f43arow7_col2\" class=\"data row7 col2\" >74</td>\n",
       "                        <td id=\"T_a481f2fa_cfed_11e9_ac23_94b86d07f43arow7_col3\" class=\"data row7 col3\" >73</td>\n",
       "                        <td id=\"T_a481f2fa_cfed_11e9_ac23_94b86d07f43arow7_col4\" class=\"data row7 col4\" >70.5</td>\n",
       "            </tr>\n",
       "            <tr>\n",
       "                                <td id=\"T_a481f2fa_cfed_11e9_ac23_94b86d07f43arow8_col0\" class=\"data row8 col0\" >Quantile 3</td>\n",
       "                        <td id=\"T_a481f2fa_cfed_11e9_ac23_94b86d07f43arow8_col1\" class=\"data row8 col1\" >80.25</td>\n",
       "                        <td id=\"T_a481f2fa_cfed_11e9_ac23_94b86d07f43arow8_col2\" class=\"data row8 col2\" >88</td>\n",
       "                        <td id=\"T_a481f2fa_cfed_11e9_ac23_94b86d07f43arow8_col3\" class=\"data row8 col3\" >88</td>\n",
       "                        <td id=\"T_a481f2fa_cfed_11e9_ac23_94b86d07f43arow8_col4\" class=\"data row8 col4\" >84</td>\n",
       "            </tr>\n",
       "            <tr>\n",
       "                                <td id=\"T_a481f2fa_cfed_11e9_ac23_94b86d07f43arow9_col0\" class=\"data row9 col0\" >Median</td>\n",
       "                        <td id=\"T_a481f2fa_cfed_11e9_ac23_94b86d07f43arow9_col1\" class=\"data row9 col1\" >59</td>\n",
       "                        <td id=\"T_a481f2fa_cfed_11e9_ac23_94b86d07f43arow9_col2\" class=\"data row9 col2\" >74</td>\n",
       "                        <td id=\"T_a481f2fa_cfed_11e9_ac23_94b86d07f43arow9_col3\" class=\"data row9 col3\" >73</td>\n",
       "                        <td id=\"T_a481f2fa_cfed_11e9_ac23_94b86d07f43arow9_col4\" class=\"data row9 col4\" >70.5</td>\n",
       "            </tr>\n",
       "            <tr>\n",
       "                                <td id=\"T_a481f2fa_cfed_11e9_ac23_94b86d07f43arow10_col0\" class=\"data row10 col0\" >Modus</td>\n",
       "                        <td id=\"T_a481f2fa_cfed_11e9_ac23_94b86d07f43arow10_col1\" class=\"data row10 col1\" >39</td>\n",
       "                        <td id=\"T_a481f2fa_cfed_11e9_ac23_94b86d07f43arow10_col2\" class=\"data row10 col2\" >60</td>\n",
       "                        <td id=\"T_a481f2fa_cfed_11e9_ac23_94b86d07f43arow10_col3\" class=\"data row10 col3\" >95</td>\n",
       "                        <td id=\"T_a481f2fa_cfed_11e9_ac23_94b86d07f43arow10_col4\" class=\"data row10 col4\" >56</td>\n",
       "            </tr>\n",
       "    </tbody></table>"
      ],
      "text/plain": [
       "<pandas.io.formats.style.Styler at 0x200d1b8cfd0>"
      ]
     },
     "execution_count": 2,
     "metadata": {},
     "output_type": "execute_result"
    }
   ],
   "source": [
    "import pandas as pd\n",
    "from scipy import stats\n",
    "df = pd.read_excel('Book1.xlsx',sep=';')\n",
    "data = {\"stats\": ['Min','Max','Mean','Standard Deviasi','Variasi','Skewnes','Quantile 1','Quantile 2',\n",
    "                  'Quantile 3','Median','Modus']}\n",
    "for i in df.columns:\n",
    "    data[i] = [df[i].min(), df[i].max(), df[i].mean(), round(df[i].std(),2), round(df[i].var(),2),\n",
    "               round(df[i].skew(),2), df[i].quantile(0.25),df[i].quantile(0.5),df[i].quantile(0.75), \n",
    "               df[i].median(), stats.mode(df[i]).mode[0]]\n",
    "tes = pd.DataFrame(data)\n",
    "tes.style.hide_index()"
   ]
  },
  {
   "cell_type": "code",
   "execution_count": null,
   "metadata": {},
   "outputs": [],
   "source": []
  },
  {
   "cell_type": "code",
   "execution_count": null,
   "metadata": {},
   "outputs": [],
   "source": []
  }
 ],
 "metadata": {
  "kernelspec": {
   "display_name": "Python 3",
   "language": "python",
   "name": "python3"
  },
  "language_info": {
   "codemirror_mode": {
    "name": "ipython",
    "version": 3
   },
   "file_extension": ".py",
   "mimetype": "text/x-python",
   "name": "python",
   "nbconvert_exporter": "python",
   "pygments_lexer": "ipython3",
   "version": "3.7.3"
  }
 },
 "nbformat": 4,
 "nbformat_minor": 2
}
